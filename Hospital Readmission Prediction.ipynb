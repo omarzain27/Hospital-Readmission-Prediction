{
 "cells": [
  {
   "cell_type": "markdown",
   "id": "74d51546",
   "metadata": {},
   "source": [
    "## Data Preparation & Exploration"
   ]
  },
  {
   "cell_type": "code",
   "execution_count": 1,
   "id": "6bc8129e",
   "metadata": {},
   "outputs": [],
   "source": [
    "#Loading libraries \n",
    "import pandas as pd\n",
    "import numpy as np\n",
    "import matplotlib.pyplot as plt\n",
    "import seaborn as sns\n",
    "%matplotlib inline"
   ]
  },
  {
   "cell_type": "code",
   "execution_count": 2,
   "id": "89c9c3de",
   "metadata": {},
   "outputs": [],
   "source": [
    "# loading dataset\n",
    "df = pd.read_csv(\"HospitalAdmissionPrediction.csv\")"
   ]
  },
  {
   "cell_type": "code",
   "execution_count": 3,
   "id": "3558ac8e",
   "metadata": {},
   "outputs": [
    {
     "data": {
      "text/html": [
       "<div>\n",
       "<style scoped>\n",
       "    .dataframe tbody tr th:only-of-type {\n",
       "        vertical-align: middle;\n",
       "    }\n",
       "\n",
       "    .dataframe tbody tr th {\n",
       "        vertical-align: top;\n",
       "    }\n",
       "\n",
       "    .dataframe thead th {\n",
       "        text-align: right;\n",
       "    }\n",
       "</style>\n",
       "<table border=\"1\" class=\"dataframe\">\n",
       "  <thead>\n",
       "    <tr style=\"text-align: right;\">\n",
       "      <th></th>\n",
       "      <th>ID.Codes</th>\n",
       "      <th>Readmission.Status</th>\n",
       "      <th>Gender</th>\n",
       "      <th>Race</th>\n",
       "      <th>ER</th>\n",
       "      <th>DRG.class</th>\n",
       "      <th>LOS</th>\n",
       "      <th>Age</th>\n",
       "      <th>HCC.Riskscore</th>\n",
       "      <th>DRG.Complication</th>\n",
       "    </tr>\n",
       "  </thead>\n",
       "  <tbody>\n",
       "    <tr>\n",
       "      <th>0</th>\n",
       "      <td>0005EC02F1DC3A15</td>\n",
       "      <td>0</td>\n",
       "      <td>M</td>\n",
       "      <td>White</td>\n",
       "      <td>0</td>\n",
       "      <td>MED</td>\n",
       "      <td>3</td>\n",
       "      <td>71</td>\n",
       "      <td>1.631</td>\n",
       "      <td>MedicalMCC.CC</td>\n",
       "    </tr>\n",
       "    <tr>\n",
       "      <th>1</th>\n",
       "      <td>0005EC02F1DC3A15</td>\n",
       "      <td>0</td>\n",
       "      <td>M</td>\n",
       "      <td>White</td>\n",
       "      <td>0</td>\n",
       "      <td>SURG</td>\n",
       "      <td>2</td>\n",
       "      <td>71</td>\n",
       "      <td>1.631</td>\n",
       "      <td>Other</td>\n",
       "    </tr>\n",
       "    <tr>\n",
       "      <th>2</th>\n",
       "      <td>0006C4369B0D7B5F</td>\n",
       "      <td>0</td>\n",
       "      <td>M</td>\n",
       "      <td>White</td>\n",
       "      <td>0</td>\n",
       "      <td>MED</td>\n",
       "      <td>2</td>\n",
       "      <td>68</td>\n",
       "      <td>0.585</td>\n",
       "      <td>MedicalNoC</td>\n",
       "    </tr>\n",
       "    <tr>\n",
       "      <th>3</th>\n",
       "      <td>000960C9E1C43BE4</td>\n",
       "      <td>0</td>\n",
       "      <td>F</td>\n",
       "      <td>White</td>\n",
       "      <td>0</td>\n",
       "      <td>SURG</td>\n",
       "      <td>12</td>\n",
       "      <td>79</td>\n",
       "      <td>1.660</td>\n",
       "      <td>SurgNoC</td>\n",
       "    </tr>\n",
       "    <tr>\n",
       "      <th>4</th>\n",
       "      <td>00098CF15837D918</td>\n",
       "      <td>0</td>\n",
       "      <td>M</td>\n",
       "      <td>White</td>\n",
       "      <td>0</td>\n",
       "      <td>SURG</td>\n",
       "      <td>4</td>\n",
       "      <td>91</td>\n",
       "      <td>1.768</td>\n",
       "      <td>SurgNoC</td>\n",
       "    </tr>\n",
       "    <tr>\n",
       "      <th>5</th>\n",
       "      <td>00098CF15837D918</td>\n",
       "      <td>0</td>\n",
       "      <td>M</td>\n",
       "      <td>White</td>\n",
       "      <td>0</td>\n",
       "      <td>SURG</td>\n",
       "      <td>5</td>\n",
       "      <td>91</td>\n",
       "      <td>1.768</td>\n",
       "      <td>SurgMCC.CC</td>\n",
       "    </tr>\n",
       "    <tr>\n",
       "      <th>6</th>\n",
       "      <td>0009FBE350ADD6AC</td>\n",
       "      <td>0</td>\n",
       "      <td>F</td>\n",
       "      <td>White</td>\n",
       "      <td>1</td>\n",
       "      <td>MED</td>\n",
       "      <td>3</td>\n",
       "      <td>82</td>\n",
       "      <td>3.885</td>\n",
       "      <td>MedicalNoC</td>\n",
       "    </tr>\n",
       "    <tr>\n",
       "      <th>7</th>\n",
       "      <td>0009FBE350ADD6AC</td>\n",
       "      <td>0</td>\n",
       "      <td>F</td>\n",
       "      <td>White</td>\n",
       "      <td>1</td>\n",
       "      <td>MED</td>\n",
       "      <td>4</td>\n",
       "      <td>83</td>\n",
       "      <td>0.641</td>\n",
       "      <td>Other</td>\n",
       "    </tr>\n",
       "    <tr>\n",
       "      <th>8</th>\n",
       "      <td>000C9F383AB934B2</td>\n",
       "      <td>0</td>\n",
       "      <td>M</td>\n",
       "      <td>White</td>\n",
       "      <td>0</td>\n",
       "      <td>SURG</td>\n",
       "      <td>4</td>\n",
       "      <td>43</td>\n",
       "      <td>0.376</td>\n",
       "      <td>SurgMCC.CC</td>\n",
       "    </tr>\n",
       "    <tr>\n",
       "      <th>9</th>\n",
       "      <td>000DD450CF549664</td>\n",
       "      <td>0</td>\n",
       "      <td>F</td>\n",
       "      <td>Other</td>\n",
       "      <td>0</td>\n",
       "      <td>MED</td>\n",
       "      <td>4</td>\n",
       "      <td>85</td>\n",
       "      <td>0.632</td>\n",
       "      <td>MedicalMCC.CC</td>\n",
       "    </tr>\n",
       "  </tbody>\n",
       "</table>\n",
       "</div>"
      ],
      "text/plain": [
       "           ID.Codes  Readmission.Status Gender   Race  ER DRG.class  LOS  Age  \\\n",
       "0  0005EC02F1DC3A15                   0      M  White   0       MED    3   71   \n",
       "1  0005EC02F1DC3A15                   0      M  White   0      SURG    2   71   \n",
       "2  0006C4369B0D7B5F                   0      M  White   0       MED    2   68   \n",
       "3  000960C9E1C43BE4                   0      F  White   0      SURG   12   79   \n",
       "4  00098CF15837D918                   0      M  White   0      SURG    4   91   \n",
       "5  00098CF15837D918                   0      M  White   0      SURG    5   91   \n",
       "6  0009FBE350ADD6AC                   0      F  White   1       MED    3   82   \n",
       "7  0009FBE350ADD6AC                   0      F  White   1       MED    4   83   \n",
       "8  000C9F383AB934B2                   0      M  White   0      SURG    4   43   \n",
       "9  000DD450CF549664                   0      F  Other   0       MED    4   85   \n",
       "\n",
       "   HCC.Riskscore DRG.Complication  \n",
       "0          1.631    MedicalMCC.CC  \n",
       "1          1.631            Other  \n",
       "2          0.585       MedicalNoC  \n",
       "3          1.660          SurgNoC  \n",
       "4          1.768          SurgNoC  \n",
       "5          1.768       SurgMCC.CC  \n",
       "6          3.885       MedicalNoC  \n",
       "7          0.641            Other  \n",
       "8          0.376       SurgMCC.CC  \n",
       "9          0.632    MedicalMCC.CC  "
      ]
     },
     "execution_count": 3,
     "metadata": {},
     "output_type": "execute_result"
    }
   ],
   "source": [
    "# display first 10 columns\n",
    "df.head(10)"
   ]
  },
  {
   "cell_type": "code",
   "execution_count": 4,
   "id": "4ac9201a",
   "metadata": {},
   "outputs": [
    {
     "data": {
      "text/plain": [
       "(66782, 10)"
      ]
     },
     "execution_count": 4,
     "metadata": {},
     "output_type": "execute_result"
    }
   ],
   "source": [
    "#checking shape of the dataset\n",
    "df.shape"
   ]
  },
  {
   "cell_type": "code",
   "execution_count": 5,
   "id": "e8253e9c",
   "metadata": {},
   "outputs": [
    {
     "data": {
      "text/plain": [
       "ID.Codes               object\n",
       "Readmission.Status      int64\n",
       "Gender                 object\n",
       "Race                   object\n",
       "ER                      int64\n",
       "DRG.class              object\n",
       "LOS                     int64\n",
       "Age                     int64\n",
       "HCC.Riskscore         float64\n",
       "DRG.Complication       object\n",
       "dtype: object"
      ]
     },
     "execution_count": 5,
     "metadata": {},
     "output_type": "execute_result"
    }
   ],
   "source": [
    "#Checking data types of each variable\n",
    "df.dtypes"
   ]
  },
  {
   "cell_type": "code",
   "execution_count": 6,
   "id": "02a273ec",
   "metadata": {},
   "outputs": [
    {
     "data": {
      "text/plain": [
       "ID.Codes              0\n",
       "Readmission.Status    0\n",
       "Gender                0\n",
       "Race                  0\n",
       "ER                    0\n",
       "DRG.class             0\n",
       "LOS                   0\n",
       "Age                   0\n",
       "HCC.Riskscore         0\n",
       "DRG.Complication      0\n",
       "dtype: int64"
      ]
     },
     "execution_count": 6,
     "metadata": {},
     "output_type": "execute_result"
    }
   ],
   "source": [
    "#Checking for missing values in dataset\n",
    "df.isnull().sum()"
   ]
  },
  {
   "cell_type": "code",
   "execution_count": 7,
   "id": "d9caf735",
   "metadata": {},
   "outputs": [
    {
     "name": "stdout",
     "output_type": "stream",
     "text": [
      "<class 'pandas.core.frame.DataFrame'>\n",
      "RangeIndex: 66782 entries, 0 to 66781\n",
      "Data columns (total 10 columns):\n",
      " #   Column              Non-Null Count  Dtype  \n",
      "---  ------              --------------  -----  \n",
      " 0   ID.Codes            66782 non-null  object \n",
      " 1   Readmission.Status  66782 non-null  int64  \n",
      " 2   Gender              66782 non-null  object \n",
      " 3   Race                66782 non-null  object \n",
      " 4   ER                  66782 non-null  int64  \n",
      " 5   DRG.class           66782 non-null  object \n",
      " 6   LOS                 66782 non-null  int64  \n",
      " 7   Age                 66782 non-null  int64  \n",
      " 8   HCC.Riskscore       66782 non-null  float64\n",
      " 9   DRG.Complication    66782 non-null  object \n",
      "dtypes: float64(1), int64(4), object(5)\n",
      "memory usage: 5.1+ MB\n"
     ]
    }
   ],
   "source": [
    "df.info()"
   ]
  },
  {
   "cell_type": "code",
   "execution_count": 8,
   "id": "25c2a780",
   "metadata": {},
   "outputs": [],
   "source": [
    "df = df.drop(columns = \"ID.Codes\")"
   ]
  },
  {
   "cell_type": "code",
   "execution_count": 9,
   "id": "5d466838",
   "metadata": {},
   "outputs": [
    {
     "data": {
      "text/html": [
       "<div>\n",
       "<style scoped>\n",
       "    .dataframe tbody tr th:only-of-type {\n",
       "        vertical-align: middle;\n",
       "    }\n",
       "\n",
       "    .dataframe tbody tr th {\n",
       "        vertical-align: top;\n",
       "    }\n",
       "\n",
       "    .dataframe thead th {\n",
       "        text-align: right;\n",
       "    }\n",
       "</style>\n",
       "<table border=\"1\" class=\"dataframe\">\n",
       "  <thead>\n",
       "    <tr style=\"text-align: right;\">\n",
       "      <th></th>\n",
       "      <th>Readmission.Status</th>\n",
       "      <th>Gender</th>\n",
       "      <th>Race</th>\n",
       "      <th>ER</th>\n",
       "      <th>DRG.class</th>\n",
       "      <th>LOS</th>\n",
       "      <th>Age</th>\n",
       "      <th>HCC.Riskscore</th>\n",
       "      <th>DRG.Complication</th>\n",
       "    </tr>\n",
       "  </thead>\n",
       "  <tbody>\n",
       "    <tr>\n",
       "      <th>0</th>\n",
       "      <td>0</td>\n",
       "      <td>M</td>\n",
       "      <td>White</td>\n",
       "      <td>0</td>\n",
       "      <td>MED</td>\n",
       "      <td>3</td>\n",
       "      <td>71</td>\n",
       "      <td>1.631</td>\n",
       "      <td>MedicalMCC.CC</td>\n",
       "    </tr>\n",
       "    <tr>\n",
       "      <th>1</th>\n",
       "      <td>0</td>\n",
       "      <td>M</td>\n",
       "      <td>White</td>\n",
       "      <td>0</td>\n",
       "      <td>SURG</td>\n",
       "      <td>2</td>\n",
       "      <td>71</td>\n",
       "      <td>1.631</td>\n",
       "      <td>Other</td>\n",
       "    </tr>\n",
       "    <tr>\n",
       "      <th>2</th>\n",
       "      <td>0</td>\n",
       "      <td>M</td>\n",
       "      <td>White</td>\n",
       "      <td>0</td>\n",
       "      <td>MED</td>\n",
       "      <td>2</td>\n",
       "      <td>68</td>\n",
       "      <td>0.585</td>\n",
       "      <td>MedicalNoC</td>\n",
       "    </tr>\n",
       "    <tr>\n",
       "      <th>3</th>\n",
       "      <td>0</td>\n",
       "      <td>F</td>\n",
       "      <td>White</td>\n",
       "      <td>0</td>\n",
       "      <td>SURG</td>\n",
       "      <td>12</td>\n",
       "      <td>79</td>\n",
       "      <td>1.660</td>\n",
       "      <td>SurgNoC</td>\n",
       "    </tr>\n",
       "    <tr>\n",
       "      <th>4</th>\n",
       "      <td>0</td>\n",
       "      <td>M</td>\n",
       "      <td>White</td>\n",
       "      <td>0</td>\n",
       "      <td>SURG</td>\n",
       "      <td>4</td>\n",
       "      <td>91</td>\n",
       "      <td>1.768</td>\n",
       "      <td>SurgNoC</td>\n",
       "    </tr>\n",
       "  </tbody>\n",
       "</table>\n",
       "</div>"
      ],
      "text/plain": [
       "   Readmission.Status Gender   Race  ER DRG.class  LOS  Age  HCC.Riskscore  \\\n",
       "0                   0      M  White   0       MED    3   71          1.631   \n",
       "1                   0      M  White   0      SURG    2   71          1.631   \n",
       "2                   0      M  White   0       MED    2   68          0.585   \n",
       "3                   0      F  White   0      SURG   12   79          1.660   \n",
       "4                   0      M  White   0      SURG    4   91          1.768   \n",
       "\n",
       "  DRG.Complication  \n",
       "0    MedicalMCC.CC  \n",
       "1            Other  \n",
       "2       MedicalNoC  \n",
       "3          SurgNoC  \n",
       "4          SurgNoC  "
      ]
     },
     "execution_count": 9,
     "metadata": {},
     "output_type": "execute_result"
    }
   ],
   "source": [
    "df.head()"
   ]
  },
  {
   "cell_type": "code",
   "execution_count": 10,
   "id": "6f9e803f",
   "metadata": {},
   "outputs": [
    {
     "data": {
      "text/html": [
       "<div>\n",
       "<style scoped>\n",
       "    .dataframe tbody tr th:only-of-type {\n",
       "        vertical-align: middle;\n",
       "    }\n",
       "\n",
       "    .dataframe tbody tr th {\n",
       "        vertical-align: top;\n",
       "    }\n",
       "\n",
       "    .dataframe thead th {\n",
       "        text-align: right;\n",
       "    }\n",
       "</style>\n",
       "<table border=\"1\" class=\"dataframe\">\n",
       "  <thead>\n",
       "    <tr style=\"text-align: right;\">\n",
       "      <th></th>\n",
       "      <th>Readmission.Status</th>\n",
       "      <th>ER</th>\n",
       "      <th>LOS</th>\n",
       "      <th>Age</th>\n",
       "      <th>HCC.Riskscore</th>\n",
       "    </tr>\n",
       "  </thead>\n",
       "  <tbody>\n",
       "    <tr>\n",
       "      <th>count</th>\n",
       "      <td>66782.000000</td>\n",
       "      <td>66782.000000</td>\n",
       "      <td>66782.000000</td>\n",
       "      <td>66782.000000</td>\n",
       "      <td>66782.000000</td>\n",
       "    </tr>\n",
       "    <tr>\n",
       "      <th>mean</th>\n",
       "      <td>0.125917</td>\n",
       "      <td>0.508281</td>\n",
       "      <td>6.693420</td>\n",
       "      <td>73.636309</td>\n",
       "      <td>2.345236</td>\n",
       "    </tr>\n",
       "    <tr>\n",
       "      <th>std</th>\n",
       "      <td>0.331758</td>\n",
       "      <td>0.817415</td>\n",
       "      <td>5.698282</td>\n",
       "      <td>13.337235</td>\n",
       "      <td>1.671520</td>\n",
       "    </tr>\n",
       "    <tr>\n",
       "      <th>min</th>\n",
       "      <td>0.000000</td>\n",
       "      <td>0.000000</td>\n",
       "      <td>1.000000</td>\n",
       "      <td>24.000000</td>\n",
       "      <td>0.079000</td>\n",
       "    </tr>\n",
       "    <tr>\n",
       "      <th>25%</th>\n",
       "      <td>0.000000</td>\n",
       "      <td>0.000000</td>\n",
       "      <td>3.000000</td>\n",
       "      <td>67.000000</td>\n",
       "      <td>1.107000</td>\n",
       "    </tr>\n",
       "    <tr>\n",
       "      <th>50%</th>\n",
       "      <td>0.000000</td>\n",
       "      <td>0.000000</td>\n",
       "      <td>5.000000</td>\n",
       "      <td>75.000000</td>\n",
       "      <td>1.865500</td>\n",
       "    </tr>\n",
       "    <tr>\n",
       "      <th>75%</th>\n",
       "      <td>0.000000</td>\n",
       "      <td>1.000000</td>\n",
       "      <td>8.000000</td>\n",
       "      <td>83.000000</td>\n",
       "      <td>3.173000</td>\n",
       "    </tr>\n",
       "    <tr>\n",
       "      <th>max</th>\n",
       "      <td>1.000000</td>\n",
       "      <td>9.000000</td>\n",
       "      <td>36.000000</td>\n",
       "      <td>101.000000</td>\n",
       "      <td>12.307000</td>\n",
       "    </tr>\n",
       "  </tbody>\n",
       "</table>\n",
       "</div>"
      ],
      "text/plain": [
       "       Readmission.Status            ER           LOS           Age  \\\n",
       "count        66782.000000  66782.000000  66782.000000  66782.000000   \n",
       "mean             0.125917      0.508281      6.693420     73.636309   \n",
       "std              0.331758      0.817415      5.698282     13.337235   \n",
       "min              0.000000      0.000000      1.000000     24.000000   \n",
       "25%              0.000000      0.000000      3.000000     67.000000   \n",
       "50%              0.000000      0.000000      5.000000     75.000000   \n",
       "75%              0.000000      1.000000      8.000000     83.000000   \n",
       "max              1.000000      9.000000     36.000000    101.000000   \n",
       "\n",
       "       HCC.Riskscore  \n",
       "count   66782.000000  \n",
       "mean        2.345236  \n",
       "std         1.671520  \n",
       "min         0.079000  \n",
       "25%         1.107000  \n",
       "50%         1.865500  \n",
       "75%         3.173000  \n",
       "max        12.307000  "
      ]
     },
     "execution_count": 10,
     "metadata": {},
     "output_type": "execute_result"
    }
   ],
   "source": [
    "df.describe()"
   ]
  },
  {
   "cell_type": "markdown",
   "id": "f2e928d5",
   "metadata": {},
   "source": [
    " Now we can make data visualization "
   ]
  },
  {
   "cell_type": "markdown",
   "id": "33a65e1d",
   "metadata": {},
   "source": [
    "## Data Visualization\n"
   ]
  },
  {
   "cell_type": "markdown",
   "id": "e6f835a5",
   "metadata": {},
   "source": [
    "Distribution of Readmission\n",
    "Our target variable is imbalance. Number of readmitted patient are quite less as compared to Not readmitted"
   ]
  },
  {
   "cell_type": "code",
   "execution_count": 11,
   "id": "581bce4e",
   "metadata": {},
   "outputs": [
    {
     "name": "stderr",
     "output_type": "stream",
     "text": [
      "C:\\Users\\zainali\\AppData\\Local\\Programs\\Python\\Python39\\lib\\site-packages\\seaborn\\_decorators.py:36: FutureWarning: Pass the following variable as a keyword arg: x. From version 0.12, the only valid positional argument will be `data`, and passing other arguments without an explicit keyword will result in an error or misinterpretation.\n",
      "  warnings.warn(\n"
     ]
    },
    {
     "data": {
      "text/plain": [
       "Text(0.5, 1.0, 'Distrinution of Readmission')"
      ]
     },
     "execution_count": 11,
     "metadata": {},
     "output_type": "execute_result"
    },
    {
     "data": {
      "image/png": "[encoded data removed]",
      "text/plain": [
       "<Figure size 432x288 with 1 Axes>"
      ]
     },
     "metadata": {
      "needs_background": "light"
     },
     "output_type": "display_data"
    }
   ],
   "source": [
    "# Distribution of Readmission \n",
    "sns.countplot(df['Readmission.Status']).set_title('Distrinution of Readmission')"
   ]
  },
  {
   "cell_type": "markdown",
   "id": "c60102c5",
   "metadata": {},
   "source": [
    "Time in Hospital and Readmission"
   ]
  },
  {
   "cell_type": "code",
   "execution_count": 12,
   "id": "324822df",
   "metadata": {},
   "outputs": [
    {
     "data": {
      "text/plain": [
       "Text(0.5, 1.0, 'Length of stay in Hospital VS. Readmission')"
      ]
     },
     "execution_count": 12,
     "metadata": {},
     "output_type": "execute_result"
    },
    {
     "data": {
      "image/png": "[encoded data removed]",
      "text/plain": [
       "<Figure size 936x504 with 1 Axes>"
      ]
     },
     "metadata": {
      "needs_background": "light"
     },
     "output_type": "display_data"
    }
   ],
   "source": [
    "fig = plt.figure(figsize=(13,7),)\n",
    "ax = sns.kdeplot(df.loc[(df['Readmission.Status'] == 0),'LOS'] , color='b',shade=True,label='Not Readmitted')\n",
    "ax = sns.kdeplot(df.loc[(df['Readmission.Status'] == 1),'LOS'] , color='r',shade=True, label='Readmitted')\n",
    "ax.set(xlabel='Time in Hospital', ylabel='Frequency')\n",
    "plt.title('Length of stay in Hospital VS. Readmission')"
   ]
  },
  {
   "cell_type": "markdown",
   "id": "c4f087e0",
   "metadata": {},
   "source": [
    "Age and Readmission"
   ]
  },
  {
   "cell_type": "code",
   "execution_count": 13,
   "id": "c5a158b6",
   "metadata": {},
   "outputs": [
    {
     "data": {
      "text/plain": [
       "8.0     22249\n",
       "9.0     16428\n",
       "7.0     14328\n",
       "10.0     4520\n",
       "6.0      4492\n",
       "5.0      2841\n",
       "4.0      1320\n",
       "3.0       508\n",
       "11.0       96\n",
       "Name: Age, dtype: int64"
      ]
     },
     "execution_count": 13,
     "metadata": {},
     "output_type": "execute_result"
    }
   ],
   "source": [
    "df['Age'] = (df['Age']/10).apply(np.ceil) \n",
    "df['Age'].value_counts()"
   ]
  },
  {
   "cell_type": "code",
   "execution_count": 14,
   "id": "eb4faf98",
   "metadata": {},
   "outputs": [
    {
     "name": "stderr",
     "output_type": "stream",
     "text": [
      "C:\\Users\\zainali\\AppData\\Local\\Programs\\Python\\Python39\\lib\\site-packages\\seaborn\\_decorators.py:36: FutureWarning: Pass the following variable as a keyword arg: x. From version 0.12, the only valid positional argument will be `data`, and passing other arguments without an explicit keyword will result in an error or misinterpretation.\n",
      "  warnings.warn(\n"
     ]
    },
    {
     "data": {
      "text/plain": [
       "Text(0.5, 1.0, 'Gender of Patient VS. Readmission')"
      ]
     },
     "execution_count": 14,
     "metadata": {},
     "output_type": "execute_result"
    },
    {
     "data": {
      "image/png": "[encoded data removed]",
      "text/plain": [
       "<Figure size 576x576 with 1 Axes>"
      ]
     },
     "metadata": {
      "needs_background": "light"
     },
     "output_type": "display_data"
    }
   ],
   "source": [
    "fig = plt.figure(figsize=(8,8))\n",
    "sns.countplot(df['Age'], hue = df['Readmission.Status']).set_title(\"Gender of Patient VS. Readmission\")"
   ]
  },
  {
   "cell_type": "markdown",
   "id": "d5da3ddb",
   "metadata": {},
   "source": [
    "Ethnicity of patient and Readmission\n"
   ]
  },
  {
   "cell_type": "code",
   "execution_count": 15,
   "id": "583e0f18",
   "metadata": {},
   "outputs": [
    {
     "data": {
      "text/plain": [
       "<AxesSubplot:xlabel='Race', ylabel='count'>"
      ]
     },
     "execution_count": 15,
     "metadata": {},
     "output_type": "execute_result"
    },
    {
     "data": {
      "image/png": "[encoded data removed]",
      "text/plain": [
       "<Figure size 576x576 with 1 Axes>"
      ]
     },
     "metadata": {
      "needs_background": "light"
     },
     "output_type": "display_data"
    }
   ],
   "source": [
    "fig = plt.figure(figsize=(8,8))\n",
    "sns.countplot(x = df['Race'], hue = df['Readmission.Status'])"
   ]
  },
  {
   "cell_type": "markdown",
   "id": "e3ab8f8a",
   "metadata": {},
   "source": [
    "Gender and Readmission\n"
   ]
  },
  {
   "cell_type": "code",
   "execution_count": 16,
   "id": "241ec747",
   "metadata": {},
   "outputs": [
    {
     "name": "stderr",
     "output_type": "stream",
     "text": [
      "C:\\Users\\zainali\\AppData\\Local\\Programs\\Python\\Python39\\lib\\site-packages\\seaborn\\_decorators.py:36: FutureWarning: Pass the following variable as a keyword arg: x. From version 0.12, the only valid positional argument will be `data`, and passing other arguments without an explicit keyword will result in an error or misinterpretation.\n",
      "  warnings.warn(\n"
     ]
    },
    {
     "data": {
      "text/plain": [
       "Text(0.5, 1.0, 'Gender of Patient VS. Readmission')"
      ]
     },
     "execution_count": 16,
     "metadata": {},
     "output_type": "execute_result"
    },
    {
     "data": {
      "image/png": "[encoded data removed]",
      "text/plain": [
       "<Figure size 576x576 with 1 Axes>"
      ]
     },
     "metadata": {
      "needs_background": "light"
     },
     "output_type": "display_data"
    }
   ],
   "source": [
    "fig = plt.figure(figsize=(8,8))\n",
    "sns.countplot(df['Gender'], hue = df['Readmission.Status']).set_title(\"Gender of Patient VS. Readmission\")"
   ]
  },
  {
   "cell_type": "markdown",
   "id": "00d2fb99",
   "metadata": {},
   "source": [
    "DRG.Complication and Readmission.Status"
   ]
  },
  {
   "cell_type": "code",
   "execution_count": 17,
   "id": "07f9a877",
   "metadata": {},
   "outputs": [
    {
     "data": {
      "image/png": "[encoded data removed]",
      "text/plain": [
       "<Figure size 360x360 with 1 Axes>"
      ]
     },
     "metadata": {
      "needs_background": "light"
     },
     "output_type": "display_data"
    }
   ],
   "source": [
    "g = sns.catplot(x = \"DRG.Complication\", y = \"Readmission.Status\", data = df, \n",
    "                   kind = \"bar\", height = 5)\n",
    "g.set_ylabels(\"Readmitted Probability\")\n",
    "plt.show()"
   ]
  },
  {
   "cell_type": "code",
   "execution_count": 18,
   "id": "728f5077",
   "metadata": {},
   "outputs": [
    {
     "data": {
      "text/plain": [
       "Text(0.5, 1.0, 'Service Utilization VS. Readmission')"
      ]
     },
     "execution_count": 18,
     "metadata": {},
     "output_type": "execute_result"
    },
    {
     "data": {
      "image/png": "[encoded data removed]",
      "text/plain": [
       "<Figure size 576x576 with 1 Axes>"
      ]
     },
     "metadata": {
      "needs_background": "light"
     },
     "output_type": "display_data"
    }
   ],
   "source": [
    "fig = plt.figure(figsize=(8,8))\n",
    "sns.countplot( x = df['ER'],hue = df['Readmission.Status']).set_title('Service Utilization VS. Readmission')"
   ]
  },
  {
   "cell_type": "code",
   "execution_count": 19,
   "id": "0ef275c3",
   "metadata": {},
   "outputs": [
    {
     "data": {
      "text/plain": [
       "Text(0.5, 1.0, 'HCC.Riskscore VS. Readmission')"
      ]
     },
     "execution_count": 19,
     "metadata": {},
     "output_type": "execute_result"
    },
    {
     "data": {
      "image/png": "[encoded data removed]",
      "text/plain": [
       "<Figure size 936x504 with 1 Axes>"
      ]
     },
     "metadata": {
      "needs_background": "light"
     },
     "output_type": "display_data"
    }
   ],
   "source": [
    "fig = plt.figure(figsize=(13,7),)\n",
    "ax = sns.kdeplot(df.loc[(df['Readmission.Status'] == 0),'HCC.Riskscore'] , color='b',shade=True,label='Not Readmitted')\n",
    "ax = sns.kdeplot(df.loc[(df['Readmission.Status'] == 1),'HCC.Riskscore'] , color='r',shade=True, label='Readmitted')\n",
    "ax.set(xlabel='HCC.Riskscore', ylabel='Frequency')\n",
    "plt.title('HCC.Riskscore VS. Readmission')"
   ]
  },
  {
   "cell_type": "markdown",
   "id": "d435068f",
   "metadata": {},
   "source": [
    "## Data label Encoder"
   ]
  },
  {
   "cell_type": "markdown",
   "id": "795c4b3b",
   "metadata": {},
   "source": [
    "we use label encoder to change categorical data to numerical data so we can fit our model"
   ]
  },
  {
   "cell_type": "code",
   "execution_count": 20,
   "id": "ca1d6c31",
   "metadata": {},
   "outputs": [
    {
     "data": {
      "text/html": [
       "<div>\n",
       "<style scoped>\n",
       "    .dataframe tbody tr th:only-of-type {\n",
       "        vertical-align: middle;\n",
       "    }\n",
       "\n",
       "    .dataframe tbody tr th {\n",
       "        vertical-align: top;\n",
       "    }\n",
       "\n",
       "    .dataframe thead th {\n",
       "        text-align: right;\n",
       "    }\n",
       "</style>\n",
       "<table border=\"1\" class=\"dataframe\">\n",
       "  <thead>\n",
       "    <tr style=\"text-align: right;\">\n",
       "      <th></th>\n",
       "      <th>Gender</th>\n",
       "      <th>Race</th>\n",
       "      <th>DRG.class</th>\n",
       "      <th>DRG.Complication</th>\n",
       "    </tr>\n",
       "  </thead>\n",
       "  <tbody>\n",
       "    <tr>\n",
       "      <th>0</th>\n",
       "      <td>M</td>\n",
       "      <td>White</td>\n",
       "      <td>MED</td>\n",
       "      <td>MedicalMCC.CC</td>\n",
       "    </tr>\n",
       "    <tr>\n",
       "      <th>1</th>\n",
       "      <td>M</td>\n",
       "      <td>White</td>\n",
       "      <td>SURG</td>\n",
       "      <td>Other</td>\n",
       "    </tr>\n",
       "    <tr>\n",
       "      <th>2</th>\n",
       "      <td>M</td>\n",
       "      <td>White</td>\n",
       "      <td>MED</td>\n",
       "      <td>MedicalNoC</td>\n",
       "    </tr>\n",
       "    <tr>\n",
       "      <th>3</th>\n",
       "      <td>F</td>\n",
       "      <td>White</td>\n",
       "      <td>SURG</td>\n",
       "      <td>SurgNoC</td>\n",
       "    </tr>\n",
       "    <tr>\n",
       "      <th>4</th>\n",
       "      <td>M</td>\n",
       "      <td>White</td>\n",
       "      <td>SURG</td>\n",
       "      <td>SurgNoC</td>\n",
       "    </tr>\n",
       "    <tr>\n",
       "      <th>...</th>\n",
       "      <td>...</td>\n",
       "      <td>...</td>\n",
       "      <td>...</td>\n",
       "      <td>...</td>\n",
       "    </tr>\n",
       "    <tr>\n",
       "      <th>66777</th>\n",
       "      <td>M</td>\n",
       "      <td>White</td>\n",
       "      <td>UNGROUP</td>\n",
       "      <td>Other</td>\n",
       "    </tr>\n",
       "    <tr>\n",
       "      <th>66778</th>\n",
       "      <td>F</td>\n",
       "      <td>White</td>\n",
       "      <td>SURG</td>\n",
       "      <td>SurgNoC</td>\n",
       "    </tr>\n",
       "    <tr>\n",
       "      <th>66779</th>\n",
       "      <td>F</td>\n",
       "      <td>White</td>\n",
       "      <td>MED</td>\n",
       "      <td>MedicalNoC</td>\n",
       "    </tr>\n",
       "    <tr>\n",
       "      <th>66780</th>\n",
       "      <td>F</td>\n",
       "      <td>White</td>\n",
       "      <td>SURG</td>\n",
       "      <td>Other</td>\n",
       "    </tr>\n",
       "    <tr>\n",
       "      <th>66781</th>\n",
       "      <td>F</td>\n",
       "      <td>White</td>\n",
       "      <td>MED</td>\n",
       "      <td>MedicalMCC.CC</td>\n",
       "    </tr>\n",
       "  </tbody>\n",
       "</table>\n",
       "<p>66782 rows × 4 columns</p>\n",
       "</div>"
      ],
      "text/plain": [
       "      Gender   Race DRG.class DRG.Complication\n",
       "0          M  White       MED    MedicalMCC.CC\n",
       "1          M  White      SURG            Other\n",
       "2          M  White       MED       MedicalNoC\n",
       "3          F  White      SURG          SurgNoC\n",
       "4          M  White      SURG          SurgNoC\n",
       "...      ...    ...       ...              ...\n",
       "66777      M  White   UNGROUP            Other\n",
       "66778      F  White      SURG          SurgNoC\n",
       "66779      F  White       MED       MedicalNoC\n",
       "66780      F  White      SURG            Other\n",
       "66781      F  White       MED    MedicalMCC.CC\n",
       "\n",
       "[66782 rows x 4 columns]"
      ]
     },
     "execution_count": 20,
     "metadata": {},
     "output_type": "execute_result"
    }
   ],
   "source": [
    "cat_data = df.select_dtypes('O')\n",
    "\n",
    "num_data = df.select_dtypes(np.number)\n",
    "\n",
    "cat_data"
   ]
  },
  {
   "cell_type": "code",
   "execution_count": 21,
   "id": "c77a600b",
   "metadata": {},
   "outputs": [
    {
     "name": "stderr",
     "output_type": "stream",
     "text": [
      "C:\\Users\\zainali\\AppData\\Local\\Temp/ipykernel_16560/3605614478.py:6: SettingWithCopyWarning: \n",
      "A value is trying to be set on a copy of a slice from a DataFrame.\n",
      "Try using .loc[row_indexer,col_indexer] = value instead\n",
      "\n",
      "See the caveats in the documentation: https://pandas.pydata.org/pandas-docs/stable/user_guide/indexing.html#returning-a-view-versus-a-copy\n",
      "  cat_data[i] = le.fit_transform(cat_data[i])\n"
     ]
    }
   ],
   "source": [
    "from sklearn.preprocessing import LabelEncoder\n",
    "\n",
    "le = LabelEncoder()\n",
    "\n",
    "for i in cat_data:\n",
    "  cat_data[i] = le.fit_transform(cat_data[i])"
   ]
  },
  {
   "cell_type": "code",
   "execution_count": 22,
   "id": "7415adb8",
   "metadata": {},
   "outputs": [
    {
     "data": {
      "text/html": [
       "<div>\n",
       "<style scoped>\n",
       "    .dataframe tbody tr th:only-of-type {\n",
       "        vertical-align: middle;\n",
       "    }\n",
       "\n",
       "    .dataframe tbody tr th {\n",
       "        vertical-align: top;\n",
       "    }\n",
       "\n",
       "    .dataframe thead th {\n",
       "        text-align: right;\n",
       "    }\n",
       "</style>\n",
       "<table border=\"1\" class=\"dataframe\">\n",
       "  <thead>\n",
       "    <tr style=\"text-align: right;\">\n",
       "      <th></th>\n",
       "      <th>Readmission.Status</th>\n",
       "      <th>ER</th>\n",
       "      <th>LOS</th>\n",
       "      <th>Age</th>\n",
       "      <th>HCC.Riskscore</th>\n",
       "      <th>Gender</th>\n",
       "      <th>Race</th>\n",
       "      <th>DRG.class</th>\n",
       "      <th>DRG.Complication</th>\n",
       "    </tr>\n",
       "  </thead>\n",
       "  <tbody>\n",
       "    <tr>\n",
       "      <th>0</th>\n",
       "      <td>0</td>\n",
       "      <td>0</td>\n",
       "      <td>3</td>\n",
       "      <td>8.0</td>\n",
       "      <td>1.631</td>\n",
       "      <td>1</td>\n",
       "      <td>3</td>\n",
       "      <td>0</td>\n",
       "      <td>0</td>\n",
       "    </tr>\n",
       "    <tr>\n",
       "      <th>1</th>\n",
       "      <td>0</td>\n",
       "      <td>0</td>\n",
       "      <td>2</td>\n",
       "      <td>8.0</td>\n",
       "      <td>1.631</td>\n",
       "      <td>1</td>\n",
       "      <td>3</td>\n",
       "      <td>1</td>\n",
       "      <td>2</td>\n",
       "    </tr>\n",
       "    <tr>\n",
       "      <th>2</th>\n",
       "      <td>0</td>\n",
       "      <td>0</td>\n",
       "      <td>2</td>\n",
       "      <td>7.0</td>\n",
       "      <td>0.585</td>\n",
       "      <td>1</td>\n",
       "      <td>3</td>\n",
       "      <td>0</td>\n",
       "      <td>1</td>\n",
       "    </tr>\n",
       "    <tr>\n",
       "      <th>3</th>\n",
       "      <td>0</td>\n",
       "      <td>0</td>\n",
       "      <td>12</td>\n",
       "      <td>8.0</td>\n",
       "      <td>1.660</td>\n",
       "      <td>0</td>\n",
       "      <td>3</td>\n",
       "      <td>1</td>\n",
       "      <td>4</td>\n",
       "    </tr>\n",
       "    <tr>\n",
       "      <th>4</th>\n",
       "      <td>0</td>\n",
       "      <td>0</td>\n",
       "      <td>4</td>\n",
       "      <td>10.0</td>\n",
       "      <td>1.768</td>\n",
       "      <td>1</td>\n",
       "      <td>3</td>\n",
       "      <td>1</td>\n",
       "      <td>4</td>\n",
       "    </tr>\n",
       "  </tbody>\n",
       "</table>\n",
       "</div>"
      ],
      "text/plain": [
       "   Readmission.Status  ER  LOS   Age  HCC.Riskscore  Gender  Race  DRG.class  \\\n",
       "0                   0   0    3   8.0          1.631       1     3          0   \n",
       "1                   0   0    2   8.0          1.631       1     3          1   \n",
       "2                   0   0    2   7.0          0.585       1     3          0   \n",
       "3                   0   0   12   8.0          1.660       0     3          1   \n",
       "4                   0   0    4  10.0          1.768       1     3          1   \n",
       "\n",
       "   DRG.Complication  \n",
       "0                 0  \n",
       "1                 2  \n",
       "2                 1  \n",
       "3                 4  \n",
       "4                 4  "
      ]
     },
     "execution_count": 22,
     "metadata": {},
     "output_type": "execute_result"
    }
   ],
   "source": [
    "data = pd.concat([num_data,cat_data],axis=1)\n",
    "data.head()"
   ]
  },
  {
   "cell_type": "markdown",
   "id": "268b6cc6",
   "metadata": {},
   "source": [
    "## Splitting the dependent and independent variable"
   ]
  },
  {
   "cell_type": "code",
   "execution_count": 23,
   "id": "ea3c798c",
   "metadata": {},
   "outputs": [],
   "source": [
    "X = data.drop('Readmission.Status',axis=1)\n",
    "y = data['Readmission.Status']"
   ]
  },
  {
   "cell_type": "markdown",
   "id": "375649d5",
   "metadata": {},
   "source": [
    "## Splitting into train and test"
   ]
  },
  {
   "cell_type": "code",
   "execution_count": 24,
   "id": "8fc1a161",
   "metadata": {},
   "outputs": [],
   "source": [
    "#modelling now\n",
    "import statsmodels.api as sm\n",
    "from sklearn.model_selection import train_test_split\n",
    "from sklearn.preprocessing import StandardScaler "
   ]
  },
  {
   "cell_type": "code",
   "execution_count": 25,
   "id": "9313f986",
   "metadata": {},
   "outputs": [],
   "source": [
    "X_train,X_test,y_train,y_test = train_test_split(X,y,test_size=0.3,random_state=42)"
   ]
  },
  {
   "cell_type": "code",
   "execution_count": 26,
   "id": "a9f0382e",
   "metadata": {},
   "outputs": [],
   "source": [
    "SC = StandardScaler()\n",
    "\n",
    "X_train_scaled = pd.DataFrame(SC.fit_transform(X_train),columns=X_train.columns)\n",
    "X_test_scaled = pd.DataFrame(SC.transform(X_test),columns=X_test.columns)"
   ]
  },
  {
   "cell_type": "code",
   "execution_count": 27,
   "id": "b01acf17",
   "metadata": {},
   "outputs": [
    {
     "data": {
      "text/plain": [
       "((46747, 8), (20035, 8), (46747,), (20035,))"
      ]
     },
     "execution_count": 27,
     "metadata": {},
     "output_type": "execute_result"
    }
   ],
   "source": [
    "X_train.shape,X_test.shape,y_train.shape,y_test.shape"
   ]
  },
  {
   "cell_type": "markdown",
   "id": "d4518471",
   "metadata": {},
   "source": [
    "## Logistic regression"
   ]
  },
  {
   "cell_type": "code",
   "execution_count": 28,
   "id": "0e3e4e75",
   "metadata": {},
   "outputs": [
    {
     "data": {
      "text/plain": [
       "LogisticRegression()"
      ]
     },
     "execution_count": 28,
     "metadata": {},
     "output_type": "execute_result"
    }
   ],
   "source": [
    "from sklearn.linear_model import LogisticRegression\n",
    "from sklearn.ensemble import RandomForestClassifier\n",
    "from sklearn.model_selection import cross_val_score\n",
    "from sklearn.preprocessing import StandardScaler \n",
    "from sklearn.metrics import confusion_matrix ,classification_report\n",
    "from sklearn.metrics import accuracy_score\n",
    "\n",
    "LR = LogisticRegression()\n",
    "\n",
    "LR.fit(X_train_scaled,y_train)"
   ]
  },
  {
   "cell_type": "code",
   "execution_count": 29,
   "id": "cd279574",
   "metadata": {},
   "outputs": [
    {
     "data": {
      "text/plain": [
       "0.87372451708131"
      ]
     },
     "execution_count": 29,
     "metadata": {},
     "output_type": "execute_result"
    }
   ],
   "source": [
    "LR.score(X_train_scaled,y_train)"
   ]
  },
  {
   "cell_type": "code",
   "execution_count": 30,
   "id": "069ae039",
   "metadata": {},
   "outputs": [
    {
     "data": {
      "text/plain": [
       "0.8705265784876466"
      ]
     },
     "execution_count": 30,
     "metadata": {},
     "output_type": "execute_result"
    }
   ],
   "source": [
    "LR.score(X_test_scaled,y_test)"
   ]
  },
  {
   "cell_type": "code",
   "execution_count": 31,
   "id": "0245f0ba",
   "metadata": {},
   "outputs": [],
   "source": [
    "y_pred = LR.predict(X_test)"
   ]
  },
  {
   "cell_type": "code",
   "execution_count": 32,
   "id": "7f94a715",
   "metadata": {},
   "outputs": [
    {
     "data": {
      "text/plain": [
       "array([[13896,  3587],\n",
       "       [ 1260,  1292]], dtype=int64)"
      ]
     },
     "execution_count": 32,
     "metadata": {},
     "output_type": "execute_result"
    }
   ],
   "source": [
    "confusion_matrix(y_test,y_pred)"
   ]
  },
  {
   "cell_type": "code",
   "execution_count": 33,
   "id": "aba85313",
   "metadata": {},
   "outputs": [
    {
     "name": "stdout",
     "output_type": "stream",
     "text": [
      "              precision    recall  f1-score   support\n",
      "\n",
      "           0       0.92      0.79      0.85     17483\n",
      "           1       0.26      0.51      0.35      2552\n",
      "\n",
      "    accuracy                           0.76     20035\n",
      "   macro avg       0.59      0.65      0.60     20035\n",
      "weighted avg       0.83      0.76      0.79     20035\n",
      "\n"
     ]
    }
   ],
   "source": [
    "print(classification_report(y_test,y_pred))"
   ]
  },
  {
   "cell_type": "code",
   "execution_count": 34,
   "id": "acfb9882",
   "metadata": {},
   "outputs": [
    {
     "data": {
      "text/plain": [
       "0.7580733715997006"
      ]
     },
     "execution_count": 34,
     "metadata": {},
     "output_type": "execute_result"
    }
   ],
   "source": [
    "accuracy_logit = accuracy_score(y_test,y_pred)\n",
    "accuracy_logit"
   ]
  },
  {
   "cell_type": "markdown",
   "id": "93040fb7",
   "metadata": {},
   "source": [
    "## Random forest"
   ]
  },
  {
   "cell_type": "code",
   "execution_count": 35,
   "id": "ba60b4e2",
   "metadata": {},
   "outputs": [
    {
     "data": {
      "text/plain": [
       "RandomForestClassifier(max_depth=25, min_samples_split=10, n_estimators=10)"
      ]
     },
     "execution_count": 35,
     "metadata": {},
     "output_type": "execute_result"
    }
   ],
   "source": [
    "RF = RandomForestClassifier(n_estimators = 10, max_depth=25, criterion = \"gini\", min_samples_split=10)\n",
    "\n",
    "RF.fit(X_train_scaled,y_train)"
   ]
  },
  {
   "cell_type": "code",
   "execution_count": 36,
   "id": "ade52587",
   "metadata": {},
   "outputs": [
    {
     "data": {
      "text/plain": [
       "0.8999080154876249"
      ]
     },
     "execution_count": 36,
     "metadata": {},
     "output_type": "execute_result"
    }
   ],
   "source": [
    "RF.score(X_train_scaled,y_train)"
   ]
  },
  {
   "cell_type": "code",
   "execution_count": 37,
   "id": "1ebc1b6f",
   "metadata": {},
   "outputs": [
    {
     "data": {
      "text/plain": [
       "0.8677813825804842"
      ]
     },
     "execution_count": 37,
     "metadata": {},
     "output_type": "execute_result"
    }
   ],
   "source": [
    "RF.score(X_test_scaled,y_test)"
   ]
  },
  {
   "cell_type": "code",
   "execution_count": 38,
   "id": "b605c2df",
   "metadata": {},
   "outputs": [],
   "source": [
    "y_pred = RF.predict(X_test)"
   ]
  },
  {
   "cell_type": "code",
   "execution_count": 39,
   "id": "5a4d19ee",
   "metadata": {},
   "outputs": [
    {
     "data": {
      "text/plain": [
       "array([[16179,  1304],\n",
       "       [ 2094,   458]], dtype=int64)"
      ]
     },
     "execution_count": 39,
     "metadata": {},
     "output_type": "execute_result"
    }
   ],
   "source": [
    "confusion_matrix(y_test,y_pred)"
   ]
  },
  {
   "cell_type": "code",
   "execution_count": 40,
   "id": "4b06e946",
   "metadata": {},
   "outputs": [
    {
     "name": "stdout",
     "output_type": "stream",
     "text": [
      "              precision    recall  f1-score   support\n",
      "\n",
      "           0       0.89      0.93      0.90     17483\n",
      "           1       0.26      0.18      0.21      2552\n",
      "\n",
      "    accuracy                           0.83     20035\n",
      "   macro avg       0.57      0.55      0.56     20035\n",
      "weighted avg       0.81      0.83      0.82     20035\n",
      "\n"
     ]
    }
   ],
   "source": [
    "print(classification_report(y_test,y_pred))"
   ]
  },
  {
   "cell_type": "code",
   "execution_count": 41,
   "id": "b9880a64",
   "metadata": {},
   "outputs": [
    {
     "data": {
      "text/plain": [
       "0.8303968055902171"
      ]
     },
     "execution_count": 41,
     "metadata": {},
     "output_type": "execute_result"
    }
   ],
   "source": [
    "accuracy_rm = accuracy_score(y_test,y_pred)\n",
    "accuracy_rm"
   ]
  },
  {
   "cell_type": "markdown",
   "id": "b35ffc31",
   "metadata": {},
   "source": [
    "## Decision Tree"
   ]
  },
  {
   "cell_type": "code",
   "execution_count": 42,
   "id": "753c3f41",
   "metadata": {},
   "outputs": [
    {
     "data": {
      "text/plain": [
       "DecisionTreeClassifier(criterion='entropy', max_depth=28, min_samples_split=10)"
      ]
     },
     "execution_count": 42,
     "metadata": {},
     "output_type": "execute_result"
    }
   ],
   "source": [
    "from sklearn.tree import DecisionTreeClassifier\n",
    "dtree = DecisionTreeClassifier(max_depth=28, criterion = \"entropy\", min_samples_split=10)\n",
    "dtree.fit(X_train_scaled,y_train)"
   ]
  },
  {
   "cell_type": "code",
   "execution_count": 43,
   "id": "07c27ab2",
   "metadata": {},
   "outputs": [
    {
     "data": {
      "text/plain": [
       "0.9199306907395127"
      ]
     },
     "execution_count": 43,
     "metadata": {},
     "output_type": "execute_result"
    }
   ],
   "source": [
    "dtree.score(X_train_scaled,y_train)"
   ]
  },
  {
   "cell_type": "code",
   "execution_count": 44,
   "id": "c20349ee",
   "metadata": {},
   "outputs": [
    {
     "data": {
      "text/plain": [
       "0.8204641876715747"
      ]
     },
     "execution_count": 44,
     "metadata": {},
     "output_type": "execute_result"
    }
   ],
   "source": [
    "dtree.score(X_test_scaled,y_test)"
   ]
  },
  {
   "cell_type": "code",
   "execution_count": 45,
   "id": "1916bd3e",
   "metadata": {},
   "outputs": [],
   "source": [
    "y_pred = dtree.predict(X_test)"
   ]
  },
  {
   "cell_type": "code",
   "execution_count": 46,
   "id": "288f2354",
   "metadata": {},
   "outputs": [
    {
     "data": {
      "text/plain": [
       "array([[11217,  6266],\n",
       "       [ 1326,  1226]], dtype=int64)"
      ]
     },
     "execution_count": 46,
     "metadata": {},
     "output_type": "execute_result"
    }
   ],
   "source": [
    "confusion_matrix(y_test,y_pred)"
   ]
  },
  {
   "cell_type": "code",
   "execution_count": 47,
   "id": "644d2a89",
   "metadata": {},
   "outputs": [
    {
     "name": "stdout",
     "output_type": "stream",
     "text": [
      "              precision    recall  f1-score   support\n",
      "\n",
      "           0       0.89      0.64      0.75     17483\n",
      "           1       0.16      0.48      0.24      2552\n",
      "\n",
      "    accuracy                           0.62     20035\n",
      "   macro avg       0.53      0.56      0.50     20035\n",
      "weighted avg       0.80      0.62      0.68     20035\n",
      "\n"
     ]
    }
   ],
   "source": [
    "print(classification_report(y_test,y_pred))"
   ]
  },
  {
   "cell_type": "code",
   "execution_count": 48,
   "id": "9688e162",
   "metadata": {},
   "outputs": [
    {
     "data": {
      "text/plain": [
       "0.6210631395058648"
      ]
     },
     "execution_count": 48,
     "metadata": {},
     "output_type": "execute_result"
    }
   ],
   "source": [
    "accuracy_dtree = accuracy_score(y_test,y_pred)\n",
    "accuracy_dtree"
   ]
  },
  {
   "cell_type": "markdown",
   "id": "b69754b3",
   "metadata": {},
   "source": [
    "## Model Comparision"
   ]
  },
  {
   "cell_type": "code",
   "execution_count": 49,
   "id": "6db6274e",
   "metadata": {},
   "outputs": [
    {
     "data": {
      "image/png": "[encoded data removed]",
      "text/plain": [
       "<Figure size 1008x504 with 1 Axes>"
      ]
     },
     "metadata": {
      "needs_background": "light"
     },
     "output_type": "display_data"
    }
   ],
   "source": [
    "plt.figure(figsize=(14, 7))\n",
    "ax = plt.subplot(111)\n",
    "\n",
    "models = ['Logistic Regression', 'Decision Tree', 'Random Forests']\n",
    "values = [accuracy_logit, accuracy_dtree, accuracy_rm]\n",
    "model = np.arange(len(models))\n",
    "\n",
    "plt.bar(model, values, align='center', width = 0.15, alpha=0.7, color = 'red', label= 'accuracy')\n",
    "plt.xticks(model, models)\n",
    "\n",
    "plt.ylabel('Performance Metrics for Different models')\n",
    "plt.title('Model')\n",
    "    \n",
    "# removing the axis on the top and right of the plot window\n",
    "ax.spines['right'].set_visible(False)\n",
    "ax.spines['top'].set_visible(False)\n",
    "ax.legend()\n",
    "\n",
    "plt.show()         "
   ]
  },
  {
   "cell_type": "code",
   "execution_count": null,
   "id": "5bddf719",
   "metadata": {},
   "outputs": [],
   "source": []
  },
  {
   "cell_type": "markdown",
   "id": "e20af8ae",
   "metadata": {},
   "source": [
    "## Feature importance"
   ]
  },
  {
   "cell_type": "code",
   "execution_count": 50,
   "id": "2114ca04",
   "metadata": {},
   "outputs": [
    {
     "name": "stderr",
     "output_type": "stream",
     "text": [
      "C:\\Users\\zainali\\AppData\\Local\\Programs\\Python\\Python39\\lib\\site-packages\\seaborn\\_decorators.py:36: FutureWarning: Pass the following variables as keyword args: x, y. From version 0.12, the only valid positional argument will be `data`, and passing other arguments without an explicit keyword will result in an error or misinterpretation.\n",
      "  warnings.warn(\n"
     ]
    },
    {
     "data": {
      "image/png": "[encoded data removed]",
      "text/plain": [
       "<Figure size 864x1728 with 1 Axes>"
      ]
     },
     "metadata": {
      "needs_background": "light"
     },
     "output_type": "display_data"
    }
   ],
   "source": [
    "# Create plot of top most features based on importance\n",
    "plt.figure(figsize=(12,24))\n",
    "sns.barplot(sorted(RF.feature_importances_),X_train.columns);"
   ]
  }
 ],
 "metadata": {
  "kernelspec": {
   "display_name": "Python 3 (ipykernel)",
   "language": "python",
   "name": "python3"
  },
  "language_info": {
   "codemirror_mode": {
    "name": "ipython",
    "version": 3
   },
   "file_extension": ".py",
   "mimetype": "text/x-python",
   "name": "python",
   "nbconvert_exporter": "python",
   "pygments_lexer": "ipython3",
   "version": "3.9.6"
  }
 },
 "nbformat": 4,
 "nbformat_minor": 5
}
